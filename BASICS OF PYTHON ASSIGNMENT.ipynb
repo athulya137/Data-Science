{
 "cells": [
  {
   "cell_type": "code",
   "execution_count": null,
   "id": "8155f63a-7e63-4ac1-b5b9-f14aba2c8f61",
   "metadata": {},
   "outputs": [],
   "source": [
    "# Exercise 1: Prime Numbers\n",
    "# Write a Python program that checks whether a given number is prime or not. \n",
    "# A prime number is a natural number greater than 1 that has no positive divisors other than 1 and itself.\n"
   ]
  },
  {
   "cell_type": "code",
   "execution_count": 18,
   "id": "c85e05d7-d0e6-4bdd-b343-128453b04380",
   "metadata": {},
   "outputs": [
    {
     "name": "stdin",
     "output_type": "stream",
     "text": [
      "Enter the Number: 9\n"
     ]
    },
    {
     "name": "stdout",
     "output_type": "stream",
     "text": [
      "It is not a prime nuber\n"
     ]
    }
   ],
   "source": [
    "num = int(input(\"Enter the Number:\"))\n",
    "if num > 1:\n",
    "    for i in range(2,(num//2)+1):\n",
    "        if (num%i) == 0:\n",
    "            print(\"It is not a prime nuber\")\n",
    "            break\n",
    "    else:\n",
    "        print(\"It is a prime number\")\n",
    "else:\n",
    "    print(\"It is not a prime number\")\n",
    "            "
   ]
  },
  {
   "cell_type": "code",
   "execution_count": 1,
   "id": "274f9778-824d-4f69-af3e-157f4d5c959f",
   "metadata": {},
   "outputs": [],
   "source": [
    "# Exercise 2: Product of Random Numbers\n",
    "# Develop a Python program that generates two random numbers and asks the user to enter the product of these numbers.\n",
    "# The program should then check if the user's answer is correct and display an appropriate message.\n"
   ]
  },
  {
   "cell_type": "code",
   "execution_count": 9,
   "id": "2a227b4a-bbdc-4b31-8f64-26bc01ea2d11",
   "metadata": {},
   "outputs": [
    {
     "name": "stdin",
     "output_type": "stream",
     "text": [
      "What is the product of 2 and 8 = 56\n"
     ]
    },
    {
     "name": "stdout",
     "output_type": "stream",
     "text": [
      "Incorrect. The correct answer is 16.\n"
     ]
    }
   ],
   "source": [
    "import random\n",
    "\n",
    "# Generate two random numbers\n",
    "num1 = random.randint(1, 10)\n",
    "num2 = random.randint(1, 10)\n",
    "\n",
    "# Calculate the correct product\n",
    "correct_product = num1 * num2\n",
    "\n",
    "# Ask the user to enter the product of the two numbers\n",
    "user_answer = int(input(f\"What is the product of {num1} and {num2} =\"))\n",
    "\n",
    "# Check if the user's answer is correct\n",
    "if user_answer == correct_product:\n",
    "    print(\"Your Answer is Correct!\")\n",
    "else:\n",
    "    print(f\"Incorrect. The correct answer is {correct_product}.\")\n"
   ]
  },
  {
   "cell_type": "code",
   "execution_count": 7,
   "id": "95ec6c4d-9a7a-4fe6-81c2-3d9ef651bc9e",
   "metadata": {},
   "outputs": [],
   "source": [
    "# Exercise 3: Squares of Even/Odd Numbers\n",
    "# Create a Python script that prints the squares of all even or odd numbers within the range of 100 to 200. \n",
    "# Choose either even or odd numbers and document your choice in the code.\n"
   ]
  },
  {
   "cell_type": "code",
   "execution_count": 27,
   "id": "9cdf96dd-b828-4ba2-9687-244f93c0d3f2",
   "metadata": {},
   "outputs": [
    {
     "name": "stdout",
     "output_type": "stream",
     "text": [
      "square of 100 is 10000\n",
      "square of 102 is 10404\n",
      "square of 104 is 10816\n",
      "square of 106 is 11236\n",
      "square of 108 is 11664\n",
      "square of 110 is 12100\n",
      "square of 112 is 12544\n",
      "square of 114 is 12996\n",
      "square of 116 is 13456\n",
      "square of 118 is 13924\n",
      "square of 120 is 14400\n",
      "square of 122 is 14884\n",
      "square of 124 is 15376\n",
      "square of 126 is 15876\n",
      "square of 128 is 16384\n",
      "square of 130 is 16900\n",
      "square of 132 is 17424\n",
      "square of 134 is 17956\n",
      "square of 136 is 18496\n",
      "square of 138 is 19044\n",
      "square of 140 is 19600\n",
      "square of 142 is 20164\n",
      "square of 144 is 20736\n",
      "square of 146 is 21316\n",
      "square of 148 is 21904\n",
      "square of 150 is 22500\n",
      "square of 152 is 23104\n",
      "square of 154 is 23716\n",
      "square of 156 is 24336\n",
      "square of 158 is 24964\n",
      "square of 160 is 25600\n",
      "square of 162 is 26244\n",
      "square of 164 is 26896\n",
      "square of 166 is 27556\n",
      "square of 168 is 28224\n",
      "square of 170 is 28900\n",
      "square of 172 is 29584\n",
      "square of 174 is 30276\n",
      "square of 176 is 30976\n",
      "square of 178 is 31684\n",
      "square of 180 is 32400\n",
      "square of 182 is 33124\n",
      "square of 184 is 33856\n",
      "square of 186 is 34596\n",
      "square of 188 is 35344\n",
      "square of 190 is 36100\n",
      "square of 192 is 36864\n",
      "square of 194 is 37636\n",
      "square of 196 is 38416\n",
      "square of 198 is 39204\n",
      "square of 200 is 40000\n"
     ]
    }
   ],
   "source": [
    "# loop through the range 100 t0 200\n",
    "for num in range(100,201):\n",
    "# check num is even\n",
    "    if num % 2 == 0:\n",
    "#print the squares of the even number\n",
    "        print(f\"square of {num} is {pow(num,2)}\")\n",
    "\n",
    "        "
   ]
  },
  {
   "cell_type": "code",
   "execution_count": 29,
   "id": "36bf0d28-9ebb-4ed0-a2da-6c5db2951814",
   "metadata": {},
   "outputs": [],
   "source": [
    "# Exercise 4: Word counter\n",
    "# write a program to count the number of words in a given text.\n"
   ]
  },
  {
   "cell_type": "code",
   "execution_count": 49,
   "id": "850345e7-2906-4915-81a3-f545a9e89095",
   "metadata": {},
   "outputs": [
    {
     "name": "stdin",
     "output_type": "stream",
     "text": [
      "Enter the Text  This is a sample text. This text will be used to demonstrate the word counter.\n"
     ]
    },
    {
     "name": "stdout",
     "output_type": "stream",
     "text": [
      "'this'=2\n",
      "'is'=1\n",
      "'a'=1\n",
      "'sample'=1\n",
      "'text.'=1\n",
      "'text'=1\n",
      "'will'=1\n",
      "'be'=1\n",
      "'used'=1\n",
      "'to'=1\n",
      "'demonstrate'=1\n",
      "'the'=1\n",
      "'word'=1\n",
      "'counter.'=1\n"
     ]
    }
   ],
   "source": [
    "# input the text to count the no words\n",
    "input_text=input(\"Enter the Text \")\n",
    "# split the text into words\n",
    "words=input_text.split()\n",
    "# create a dict to hold word count\n",
    "word_count = {}\n",
    "\n",
    "# loop through each wor in the list\n",
    "for word in words:\n",
    "    # convert to lower case to make the count case-insensitive\n",
    "    word = word.lower()\n",
    "    # update word count in dict\n",
    "    if word in word_count:\n",
    "        word_count[word] += 1\n",
    "    else:\n",
    "        word_count[word] = 1\n",
    "# print the word and count\n",
    "for word,count in word_count.items():\n",
    "    print(f\"'{word}'={count}\")\n",
    "    "
   ]
  },
  {
   "cell_type": "code",
   "execution_count": 53,
   "id": "e6d49bbf-e98d-4edd-b5f1-ed6c1a0acc22",
   "metadata": {},
   "outputs": [],
   "source": [
    "# Exercise 5: Check for Palindrome\n",
    "# Write a Python function called is_palindrome that takes a string as input and returns True if the string is a palindrome, and False otherwise. \n",
    "# A palindrome is a word, phrase, number, or other sequence of characters that reads the same forward and backward, ignoring spaces, punctuation, and capitalization.\n",
    "# Example:   Input: \"racecar\"   Expected Output: True"
   ]
  },
  {
   "cell_type": "code",
   "execution_count": 61,
   "id": "b6899fb2-54d6-4532-9786-ffb05286dc3e",
   "metadata": {},
   "outputs": [
    {
     "name": "stdin",
     "output_type": "stream",
     "text": [
      "Enter a string to check whether it's a palindrome or not:  racecar\n"
     ]
    },
    {
     "name": "stdout",
     "output_type": "stream",
     "text": [
      "It is a palindrome\n"
     ]
    }
   ],
   "source": [
    "import string\n",
    "\n",
    "# Function to check if the input string is a palindrome\n",
    "def is_palindrome(input_string):\n",
    "    # Remove spaces, punctuation, and capitalization\n",
    "    new_string = ''.join(char.lower() for char in input_string if char.isalnum())\n",
    "    # Check if new_string is the same forward and backward\n",
    "    return new_string == new_string[::-1]\n",
    "\n",
    "# Input the string to check palindrome or not\n",
    "input_string = input(\"Enter a string to check whether it's a palindrome or not: \")\n",
    "\n",
    "# Check if the string is a palindrome and print the result\n",
    "if is_palindrome(input_string):\n",
    "    print(\"It is a palindrome\")\n",
    "else:\n",
    "    print(\"Not a palindrome\")\n"
   ]
  },
  {
   "cell_type": "code",
   "execution_count": null,
   "id": "232470ed-281b-40b7-84eb-87fa953a5e28",
   "metadata": {},
   "outputs": [],
   "source": []
  }
 ],
 "metadata": {
  "kernelspec": {
   "display_name": "Python 3 (ipykernel)",
   "language": "python",
   "name": "python3"
  },
  "language_info": {
   "codemirror_mode": {
    "name": "ipython",
    "version": 3
   },
   "file_extension": ".py",
   "mimetype": "text/x-python",
   "name": "python",
   "nbconvert_exporter": "python",
   "pygments_lexer": "ipython3",
   "version": "3.12.4"
  }
 },
 "nbformat": 4,
 "nbformat_minor": 5
}
