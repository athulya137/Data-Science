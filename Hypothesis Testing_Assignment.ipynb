{
 "cells": [
  {
   "cell_type": "markdown",
   "id": "b5f91ff5-3620-47eb-8091-1cefbff6cd28",
   "metadata": {},
   "source": [
    "## Chisquare Test"
   ]
  },
  {
   "cell_type": "code",
   "execution_count": 59,
   "id": "9343ee0d-6bcf-44d7-aa47-d706d3dda411",
   "metadata": {},
   "outputs": [],
   "source": [
    "# Satisfaction\t     Smart Thermostat\tSmart Light\t  Total\n",
    "# Very Satisfied\t       50\t            70\t       120\n",
    "# Satisfied\t               80\t            100\t       180\n",
    "# Neutral\t               60\t            90\t       150\n",
    "# Unsatisfied\t           30\t            50\t       80\n",
    "# Very Unsatisfied\t       20\t            50\t       70\n",
    "# Total\t                   240\t            360\t       600\n"
   ]
  },
  {
   "cell_type": "code",
   "execution_count": 61,
   "id": "653298f3-9504-4390-a4b7-ab38e77b6ae1",
   "metadata": {},
   "outputs": [],
   "source": [
    "# H0--- There is no significant association between the type of smart home device (Smart Thermostat vs. Smart Light) and customer satisfaction.\n",
    "# Ha---There is a significant association between the type of smart home device and customer satisfaction."
   ]
  },
  {
   "cell_type": "code",
   "execution_count": 63,
   "id": "dee71c4a-09a4-4a3e-a2d1-850fe9d5b798",
   "metadata": {},
   "outputs": [],
   "source": [
    "import numpy as np\n",
    "import scipy.stats as stats"
   ]
  },
  {
   "cell_type": "code",
   "execution_count": 71,
   "id": "5bfec1ea-abb3-4d1b-8661-3582c6ab6ee7",
   "metadata": {},
   "outputs": [],
   "source": [
    "# Data from given table\n",
    "observed = np.array([[50,70],[80,100],[60,90],[30,50],[20,50]])\n",
    "alpha = 0.05"
   ]
  },
  {
   "cell_type": "code",
   "execution_count": 65,
   "id": "1d23efeb-70d9-46f7-9d7f-b93fad3ae318",
   "metadata": {},
   "outputs": [
    {
     "data": {
      "text/plain": [
       "Chi2ContingencyResult(statistic=5.638227513227513, pvalue=0.22784371130697179, dof=4, expected_freq=array([[ 48.,  72.],\n",
       "       [ 72., 108.],\n",
       "       [ 60.,  90.],\n",
       "       [ 32.,  48.],\n",
       "       [ 28.,  42.]]))"
      ]
     },
     "execution_count": 65,
     "metadata": {},
     "output_type": "execute_result"
    }
   ],
   "source": [
    "## Perform Chi-Square test\n",
    "expected = stats.chi2_contingency(observed)\n",
    "expected"
   ]
  },
  {
   "cell_type": "code",
   "execution_count": 76,
   "id": "5759974d-e295-48cb-b4af-c818711c7ae6",
   "metadata": {},
   "outputs": [
    {
     "data": {
      "text/plain": [
       "9.487729036781154"
      ]
     },
     "execution_count": 76,
     "metadata": {},
     "output_type": "execute_result"
    }
   ],
   "source": [
    "# Calculate critical value\n",
    "# chi_critical = stats.ch2.ppf(1-alpha,dof)\n",
    "chi_critical=stats.chi2.ppf(0.95,4)\n",
    "chi_critical"
   ]
  },
  {
   "cell_type": "code",
   "execution_count": 102,
   "id": "408bae51-4d5f-44c2-96fe-beaa7dd90d71",
   "metadata": {},
   "outputs": [],
   "source": [
    "# Conclusion\n",
    "# since the chi-square static(5.64) < chi-critical(9.49), fail to reject the H0\n",
    "# so there is no significant association between the type of smart home device (Smart Thermostat vs. Smart Light) and customer satisfaction."
   ]
  },
  {
   "cell_type": "markdown",
   "id": "b654e37e-e0fa-4611-94ab-731416ef4d06",
   "metadata": {},
   "source": [
    "## Hypothesis Testing"
   ]
  },
  {
   "cell_type": "code",
   "execution_count": 84,
   "id": "0d07a704-facd-4f96-888d-73f7f9ba0dc9",
   "metadata": {},
   "outputs": [],
   "source": [
    "# Given_data\n",
    "sample_mean= 3050\n",
    "units_produced_mean= 600\n",
    "std_dev_units= 25\n",
    "n=25\n",
    "theoretical_mean = 1000 + 5 * units_produced_mean\n",
    "alpha= 0.05"
   ]
  },
  {
   "cell_type": "code",
   "execution_count": 86,
   "id": "0cb6c50a-1bd9-4e9a-9663-61abe7b35927",
   "metadata": {},
   "outputs": [],
   "source": [
    "# std_dev of weekly cost\n",
    "std_dev_weekly_cost = 5 * std_dev_units"
   ]
  },
  {
   "cell_type": "code",
   "execution_count": 104,
   "id": "79a4b134-f7d8-4c48-83c3-a91e852c0ac5",
   "metadata": {},
   "outputs": [],
   "source": [
    "# H0---The weekly operating costs are lesser than the theoretical model (mean = theoretical mean)\n",
    "# Ha---The weekly operating costs are higher than the theoretical model"
   ]
  },
  {
   "cell_type": "code",
   "execution_count": 92,
   "id": "34616522-b5f0-4cff-94ec-3d80b3ecdfcb",
   "metadata": {},
   "outputs": [
    {
     "data": {
      "text/plain": [
       "-38.0"
      ]
     },
     "execution_count": 92,
     "metadata": {},
     "output_type": "execute_result"
    }
   ],
   "source": [
    "# Calculate t_static value\n",
    "import math\n",
    "t_stat= (sample_mean-theoretical_mean)/(std_dev_weekly_cost/math.sqrt(n))\n",
    "t_stat"
   ]
  },
  {
   "cell_type": "code",
   "execution_count": 100,
   "id": "ebebfa90-44cb-48f1-8bda-c7e75e65b0f0",
   "metadata": {},
   "outputs": [
    {
     "data": {
      "text/plain": [
       "1.6448536269514722"
      ]
     },
     "execution_count": 100,
     "metadata": {},
     "output_type": "execute_result"
    }
   ],
   "source": [
    "# Calculate critical value\n",
    "critical_value= stats.norm.ppf(1-alpha)\n",
    "critical_value"
   ]
  },
  {
   "cell_type": "code",
   "execution_count": 106,
   "id": "0e703e71-9d91-4076-887f-2c63d3130f64",
   "metadata": {},
   "outputs": [],
   "source": [
    "# Conclusion\n",
    "# t_stat < critical_value\n",
    "# so fail to reject H0\n",
    "# The weekly operating costs are lesser than the theoretical model\n",
    "# sample mean is lower than the theoretical mean"
   ]
  },
  {
   "cell_type": "code",
   "execution_count": null,
   "id": "b4a2439a-b22c-4efa-b402-8c34c6f9e147",
   "metadata": {},
   "outputs": [],
   "source": []
  }
 ],
 "metadata": {
  "kernelspec": {
   "display_name": "Python 3 (ipykernel)",
   "language": "python",
   "name": "python3"
  },
  "language_info": {
   "codemirror_mode": {
    "name": "ipython",
    "version": 3
   },
   "file_extension": ".py",
   "mimetype": "text/x-python",
   "name": "python",
   "nbconvert_exporter": "python",
   "pygments_lexer": "ipython3",
   "version": "3.12.4"
  }
 },
 "nbformat": 4,
 "nbformat_minor": 5
}
