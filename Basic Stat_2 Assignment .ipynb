{
 "cells": [
  {
   "cell_type": "code",
   "execution_count": 1,
   "id": "be1370e4-5074-4c32-9b15-87e6c27f5119",
   "metadata": {},
   "outputs": [],
   "source": [
    "#data\n",
    "#1.13, 1.55, 1.43, 0.92, 1.25, 1.36, 1.32, 0.85, 1.07, 1.48, 1.20, 1.33, 1.18, 1.22, 1.29"
   ]
  },
  {
   "cell_type": "code",
   "execution_count": 3,
   "id": "9f5b59f9-70b8-4969-bf82-0f1bc646cb73",
   "metadata": {},
   "outputs": [],
   "source": [
    "#a. Build 99% Confidence Interval Using Sample Standard Deviation"
   ]
  },
  {
   "cell_type": "code",
   "execution_count": 5,
   "id": "55534e4f-8840-4b91-b84c-63119914a899",
   "metadata": {},
   "outputs": [],
   "source": [
    "x= [1.13, 1.55, 1.43, 0.92, 1.25, 1.36, 1.32, 0.85, 1.07, 1.48, 1.20, 1.33, 1.18, 1.22, 1.29]"
   ]
  },
  {
   "cell_type": "code",
   "execution_count": 7,
   "id": "f9f83ba7-739d-4fb6-bc17-9d28ed639cd9",
   "metadata": {},
   "outputs": [],
   "source": [
    "import numpy as np\n",
    "import scipy.stats as stats"
   ]
  },
  {
   "cell_type": "code",
   "execution_count": 9,
   "id": "adc4030d-f384-4657-9b6e-a8d525e97990",
   "metadata": {},
   "outputs": [],
   "source": [
    "#given data\n",
    "n= 15\n",
    "ci= 0.99\n",
    "alpha= 0.01  #alpha=1-ci"
   ]
  },
  {
   "cell_type": "code",
   "execution_count": 13,
   "id": "7cf2fcb0-ac08-489d-80ad-ff2984cb3412",
   "metadata": {},
   "outputs": [],
   "source": [
    "# t test with ci\n",
    "# x_bar+-tcritical*(s/sqrt(n))"
   ]
  },
  {
   "cell_type": "code",
   "execution_count": 15,
   "id": "8caa892b-e4d2-48e3-924e-e2489974bab1",
   "metadata": {},
   "outputs": [
    {
     "data": {
      "text/plain": [
       "1.2386666666666666"
      ]
     },
     "execution_count": 15,
     "metadata": {},
     "output_type": "execute_result"
    }
   ],
   "source": [
    "x_bar= np.mean(x)\n",
    "x_bar"
   ]
  },
  {
   "cell_type": "code",
   "execution_count": 19,
   "id": "4cae65a8-3ccd-4cac-9435-10381466199f",
   "metadata": {},
   "outputs": [
    {
     "data": {
      "text/plain": [
       "2.976842734370834"
      ]
     },
     "execution_count": 19,
     "metadata": {},
     "output_type": "execute_result"
    }
   ],
   "source": [
    "t_critical= stats.t.ppf(0.995,14)\n",
    "t_critical"
   ]
  },
  {
   "cell_type": "code",
   "execution_count": 25,
   "id": "beccfd68-3a10-4af5-b0ec-3097d66c8f7f",
   "metadata": {},
   "outputs": [
    {
     "data": {
      "text/plain": [
       "array([-0.10866667,  0.31133333,  0.19133333, -0.31866667,  0.01133333,\n",
       "        0.12133333,  0.08133333, -0.38866667, -0.16866667,  0.24133333,\n",
       "       -0.03866667,  0.09133333, -0.05866667, -0.01866667,  0.05133333])"
      ]
     },
     "execution_count": 25,
     "metadata": {},
     "output_type": "execute_result"
    }
   ],
   "source": [
    "a= (x-x_bar)\n",
    "a"
   ]
  },
  {
   "cell_type": "code",
   "execution_count": 27,
   "id": "c6fd33b4-29cb-4487-afe9-70973752bb76",
   "metadata": {},
   "outputs": [
    {
     "data": {
      "text/plain": [
       "array([1.18084444e-02, 9.69284444e-02, 3.66084444e-02, 1.01548444e-01,\n",
       "       1.28444444e-04, 1.47217778e-02, 6.61511111e-03, 1.51061778e-01,\n",
       "       2.84484444e-02, 5.82417778e-02, 1.49511111e-03, 8.34177778e-03,\n",
       "       3.44177778e-03, 3.48444444e-04, 2.63511111e-03])"
      ]
     },
     "execution_count": 27,
     "metadata": {},
     "output_type": "execute_result"
    }
   ],
   "source": [
    "b= a**2\n",
    "b"
   ]
  },
  {
   "cell_type": "code",
   "execution_count": 29,
   "id": "9d7ed329-2dd9-4fff-ac19-61ff7995d5ee",
   "metadata": {},
   "outputs": [
    {
     "data": {
      "text/plain": [
       "0.5223733333333335"
      ]
     },
     "execution_count": 29,
     "metadata": {},
     "output_type": "execute_result"
    }
   ],
   "source": [
    "c= sum(b)\n",
    "c"
   ]
  },
  {
   "cell_type": "code",
   "execution_count": 31,
   "id": "08e33063-86ee-4db8-bd02-107a40f9ae6e",
   "metadata": {},
   "outputs": [
    {
     "data": {
      "text/plain": [
       "0.19316412956959936"
      ]
     },
     "execution_count": 31,
     "metadata": {},
     "output_type": "execute_result"
    }
   ],
   "source": [
    "# std_dev\n",
    "s= np.sqrt(c/14)\n",
    "s"
   ]
  },
  {
   "cell_type": "code",
   "execution_count": 33,
   "id": "93a530d1-cbca-46ba-aa7a-7cf1c68faa35",
   "metadata": {},
   "outputs": [
    {
     "data": {
      "text/plain": [
       "0.14846932822817593"
      ]
     },
     "execution_count": 33,
     "metadata": {},
     "output_type": "execute_result"
    }
   ],
   "source": [
    "Margin_of_Error=t_critical*s/np.sqrt(n)\n",
    "Margin_of_Error"
   ]
  },
  {
   "cell_type": "code",
   "execution_count": 37,
   "id": "439554e9-ebf7-4b8c-bc2e-c662a8466ec2",
   "metadata": {},
   "outputs": [
    {
     "data": {
      "text/plain": [
       "1.0901973384384906"
      ]
     },
     "execution_count": 37,
     "metadata": {},
     "output_type": "execute_result"
    }
   ],
   "source": [
    "# pop_mean_with_lower\n",
    "lower_limit = x_bar-Margin_of_Error\n",
    "lower_limit"
   ]
  },
  {
   "cell_type": "code",
   "execution_count": 39,
   "id": "d23bb7d0-3ad6-4a20-bf07-7ef1ba03caff",
   "metadata": {},
   "outputs": [
    {
     "data": {
      "text/plain": [
       "1.3871359948948425"
      ]
     },
     "execution_count": 39,
     "metadata": {},
     "output_type": "execute_result"
    }
   ],
   "source": [
    "# pop_mean_with_upper\n",
    "upper_limit = x_bar+Margin_of_Error\n",
    "upper_limit"
   ]
  },
  {
   "cell_type": "code",
   "execution_count": 41,
   "id": "df91d899-fa8d-4485-8728-0d4706c3186d",
   "metadata": {},
   "outputs": [],
   "source": [
    "## 99% Confidence Interval: [1.0901973384384906, 1.3871359948948425]"
   ]
  },
  {
   "cell_type": "code",
   "execution_count": 43,
   "id": "a270bc4d-6f00-4f56-b973-c4c35367e79b",
   "metadata": {},
   "outputs": [],
   "source": [
    "# b. Build 99% Confidence Interval Using Known Population Standard Deviation"
   ]
  },
  {
   "cell_type": "code",
   "execution_count": 49,
   "id": "ae622c1d-fc14-4eb0-b167-cf7858035e8a",
   "metadata": {},
   "outputs": [],
   "source": [
    "## pop_std_dev\n",
    "sigma= 0.2"
   ]
  },
  {
   "cell_type": "code",
   "execution_count": 47,
   "id": "5b6604b9-ddd0-4cbe-82f5-6b4a90642c01",
   "metadata": {},
   "outputs": [
    {
     "data": {
      "text/plain": [
       "2.5758293035489004"
      ]
     },
     "execution_count": 47,
     "metadata": {},
     "output_type": "execute_result"
    }
   ],
   "source": [
    "z_critical= stats.norm.ppf(0.995)\n",
    "z_critical"
   ]
  },
  {
   "cell_type": "code",
   "execution_count": 51,
   "id": "88fb28ad-54e3-4d95-bd82-142b2ad758da",
   "metadata": {},
   "outputs": [
    {
     "data": {
      "text/plain": [
       "0.13301525327090588"
      ]
     },
     "execution_count": 51,
     "metadata": {},
     "output_type": "execute_result"
    }
   ],
   "source": [
    "margin_of_error= z_critical*(sigma/np.sqrt(n))\n",
    "margin_of_error"
   ]
  },
  {
   "cell_type": "code",
   "execution_count": 55,
   "id": "3bd99366-e91b-4131-8e76-803b2f173dd1",
   "metadata": {},
   "outputs": [
    {
     "data": {
      "text/plain": [
       "1.1056514133957607"
      ]
     },
     "execution_count": 55,
     "metadata": {},
     "output_type": "execute_result"
    }
   ],
   "source": [
    "# pop_mean_with_lower\n",
    "lower_limit = x_bar-margin_of_error\n",
    "lower_limit"
   ]
  },
  {
   "cell_type": "code",
   "execution_count": 57,
   "id": "6dc5ed97-b23d-49de-8175-2f0e5969799d",
   "metadata": {},
   "outputs": [
    {
     "data": {
      "text/plain": [
       "1.3716819199375725"
      ]
     },
     "execution_count": 57,
     "metadata": {},
     "output_type": "execute_result"
    }
   ],
   "source": [
    "# pop_mean_with_upper\n",
    "upper_limit = x_bar+margin_of_error\n",
    "upper_limit"
   ]
  },
  {
   "cell_type": "code",
   "execution_count": 59,
   "id": "55265b4d-28f2-4e01-8074-5dbe7ebcb8b9",
   "metadata": {},
   "outputs": [],
   "source": [
    "# 99% Confidence Interval: [1.1056514133957607, 1.3716819199375725] "
   ]
  },
  {
   "cell_type": "code",
   "execution_count": null,
   "id": "b14f66d6-37bd-4bc9-9d24-58fff0491cf5",
   "metadata": {},
   "outputs": [],
   "source": []
  }
 ],
 "metadata": {
  "kernelspec": {
   "display_name": "Python 3 (ipykernel)",
   "language": "python",
   "name": "python3"
  },
  "language_info": {
   "codemirror_mode": {
    "name": "ipython",
    "version": 3
   },
   "file_extension": ".py",
   "mimetype": "text/x-python",
   "name": "python",
   "nbconvert_exporter": "python",
   "pygments_lexer": "ipython3",
   "version": "3.12.4"
  }
 },
 "nbformat": 4,
 "nbformat_minor": 5
}
